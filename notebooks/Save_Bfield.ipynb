{
 "cells": [
  {
   "cell_type": "code",
   "execution_count": null,
   "metadata": {},
   "outputs": [],
   "source": [
    "from dig.utilvar import get_EAST_EFIT_BR_BZ_BPhi\n",
    "\n",
    "shotnum = 103950\n",
    "R, Z, _, BRs, BZs, BPhis = get_EAST_EFIT_BR_BZ_BPhi(shotnum, [0.3, 0.4])\n",
    "# index 0 for 0.3 s\n",
    "BR = BRs[0]\n",
    "BZ = BZs[0]\n",
    "BPhi = BPhis[0]\n",
    "# index 1 for 0.4 s\n",
    "BR = BRs[1]\n",
    "BZ = BZs[1]\n",
    "BPhi = BPhis[1]\n"
   ]
  },
  {
   "cell_type": "code",
   "execution_count": null,
   "metadata": {},
   "outputs": [],
   "source": [
    "import numpy as np\n",
    "import scipy.io\n",
    "\n",
    "np.savez(f'{shotnum}_{0.4*1000}.npz', R=R, Z=Z, BR=BR, BZ=BZ, BPhi=BPhi)\n",
    "scipy.io.savemat(f'{shotnum}_{0.4*1000}.mat', dict(R=R, Z=Z, BR=BR, BZ=BZ, BPhi=BPhi))"
   ]
  },
  {
   "cell_type": "code",
   "execution_count": null,
   "metadata": {},
   "outputs": [],
   "source": []
  }
 ],
 "metadata": {
  "kernelspec": {
   "display_name": "Python 3 (ipykernel)",
   "language": "python",
   "name": "python3"
  },
  "language_info": {
   "codemirror_mode": {
    "name": "ipython",
    "version": 3
   },
   "file_extension": ".py",
   "mimetype": "text/x-python",
   "name": "python",
   "nbconvert_exporter": "python",
   "pygments_lexer": "ipython3",
   "version": "3.10.4"
  },
  "vscode": {
   "interpreter": {
    "hash": "916dbcbb3f70747c44a77c7bcd40155683ae19c65e1c03b4aa3499c5328201f1"
   }
  }
 },
 "nbformat": 4,
 "nbformat_minor": 4
}
